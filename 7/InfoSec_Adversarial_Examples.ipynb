{
  "nbformat": 4,
  "nbformat_minor": 0,
  "metadata": {
    "colab": {
      "provenance": []
    },
    "kernelspec": {
      "name": "python3",
      "display_name": "Python 3"
    },
    "language_info": {
      "name": "python"
    },
    "accelerator": "GPU",
    "gpuClass": "standard"
  },
  "cells": [
    {
      "cell_type": "markdown",
      "source": [
        "#Setup"
      ],
      "metadata": {
        "id": "6xO-XBsYMOiR"
      }
    },
    {
      "cell_type": "code",
      "source": [
        "try:\n",
        "  # mount your google drive to get permanent storage for your results\n",
        "  from google.colab import drive\n",
        "  drive.mount('/content/drive')\n",
        "\n",
        "  RESULTS_PATH = \"/content/drive/MyDrive/infoseclab_ML/results\"\n",
        "except ModuleNotFoundError:\n",
        "  RESULTS_PATH = \"results\"\n",
        "\n",
        "!mkdir -p {RESULTS_PATH}"
      ],
      "metadata": {
        "id": "BHkSCcGWfkls",
        "colab": {
          "base_uri": "https://localhost:8080/"
        },
        "outputId": "0094a912-a07d-45af-ad28-0b870c82ad42"
      },
      "execution_count": 1,
      "outputs": [
        {
          "output_type": "stream",
          "name": "stdout",
          "text": [
            "Drive already mounted at /content/drive; to attempt to forcibly remount, call drive.mount(\"/content/drive\", force_remount=True).\n"
          ]
        }
      ]
    },
    {
      "cell_type": "code",
      "execution_count": 2,
      "metadata": {
        "id": "aCjvBq6rL0n1",
        "colab": {
          "base_uri": "https://localhost:8080/"
        },
        "outputId": "2e0a3430-80b1-4468-a0b6-521e8d0d3188"
      },
      "outputs": [
        {
          "output_type": "stream",
          "name": "stdout",
          "text": [
            "/content/infoseclab\n",
            "From https://github.com/ethz-privsec/infoseclab\n",
            " * branch            HEAD       -> FETCH_HEAD\n",
            "Already up to date.\n",
            "/content\n"
          ]
        }
      ],
      "source": [
        "import sys\n",
        "\n",
        "# Lab files\n",
        "![ ! -d 'infoseclab' ] && git clone https://github.com/ethz-privsec/infoseclab.git\n",
        "%cd infoseclab\n",
        "!git pull https://github.com/ethz-privsec/infoseclab.git\n",
        "%cd ..\n",
        "if \"infoseclab\" not in sys.path:\n",
        "  sys.path.append(\"infoseclab\")"
      ]
    },
    {
      "cell_type": "markdown",
      "source": [
        "#Imports"
      ],
      "metadata": {
        "id": "LXC5q0RvNhhh"
      }
    },
    {
      "cell_type": "code",
      "source": [
        "import torch\n",
        "import numpy as np\n",
        "import infoseclab\n",
        "from infoseclab import defenses, attacks, ImageNet, EPSILON, utils, evaluation\n",
        "import os\n",
        "from zipfile import ZipFile\n",
        "\n",
        "device = \"cuda\""
      ],
      "metadata": {
        "id": "Uwi_QoU9Nguf"
      },
      "execution_count": 3,
      "outputs": []
    },
    {
      "cell_type": "markdown",
      "source": [
        "# 0.&nbsp;Untargeted attack on ResNet-50\n",
        "\n",
        "We will first run an *untargeted* attack, where the goal is to get the model to misclassify an input `(x, y)` as any incorrect class `y'`.\n",
        "\n",
        "Familiarize yourself with the provided code for a basic PGD attack. The attack is applied to clean images from ImageNet (`ImageNet.clean_images`) with their true labels (`ImageNet.labels`).\n",
        "\n"
      ],
      "metadata": {
        "id": "HV7wnlsjNyYb"
      }
    },
    {
      "cell_type": "code",
      "source": [
        "resnet = defenses.ResNet(device)\n",
        "pgd = attacks.PGD(steps=20, epsilon=EPSILON, step_size=2.5 * EPSILON / 20, clf=resnet)\n",
        "x_adv = pgd.attack_all(ImageNet.clean_images, ImageNet.labels, verbose=False)\n",
        "\n",
        "utils.save_images(os.path.join(RESULTS_PATH, \"x_adv_untargeted.npy\"), x_adv)\n",
        "evaluation.eval_untargeted_pgd(os.path.join(RESULTS_PATH, \"x_adv_untargeted.npy\"), device)\n",
        "\n",
        "idx = 0\n",
        "input = torch.stack([x_adv[idx], ImageNet.clean_images[idx]]).to(device)\n",
        "logits = resnet.get_logits(input)\n",
        "utils.display(x_adv[idx], image_orig=ImageNet.clean_images[idx], logits=logits)"
      ],
      "metadata": {
        "id": "bEsJ9nz_N11y",
        "colab": {
          "base_uri": "https://localhost:8080/",
          "height": 315
        },
        "outputId": "a1ae2ca5-7f4c-4b87-be42-ab6e4e1ce86b"
      },
      "execution_count": null,
      "outputs": [
        {
          "output_type": "stream",
          "name": "stderr",
          "text": [
            "/usr/local/lib/python3.8/dist-packages/torchvision/models/_utils.py:208: UserWarning: The parameter 'pretrained' is deprecated since 0.13 and may be removed in the future, please use 'weights' instead.\n",
            "  warnings.warn(\n",
            "/usr/local/lib/python3.8/dist-packages/torchvision/models/_utils.py:223: UserWarning: Arguments other than a weight enum or `None` for 'weights' are deprecated since 0.13 and may be removed in the future. The current behavior is equivalent to passing `weights=ResNet50_Weights.IMAGENET1K_V1`. You can also use `weights=ResNet50_Weights.DEFAULT` to get the most up-to-date weights.\n",
            "  warnings.warn(msg)\n",
            "100%|██████████| 10/10 [00:40<00:00,  4.04s/it]\n"
          ]
        },
        {
          "output_type": "stream",
          "name": "stdout",
          "text": [
            "=== Evaluating untargeted PGD ===\n",
            "\u001b[32m\tclean accuracy: 100.0%\u001b[0m\n",
            "\u001b[32m\tadv accuracy: 0.0% (goal: ≤ 1.0%)\u001b[0m\n",
            "\u001b[32mSUCCESS\u001b[0m\n"
          ]
        },
        {
          "output_type": "display_data",
          "data": {
            "text/plain": [
              "<Figure size 432x288 with 3 Axes>"
            ],
            "image/png": "[encoded data removed]"
          },
          "metadata": {
            "needs_background": "light"
          }
        }
      ]
    },
    {
      "cell_type": "markdown",
      "source": [
        "#1.&nbsp;Targeted attack on ResNet-50 \n",
        "\n",
        "The previous attack lowers the model's accuracy to 0%, but the mistakes are sometimes understandable (e.g., misclassifying a bowl of unripe \"rose hips\" as \"oranges\").\n",
        "\n",
        "You will now implement a *targeted* attack, where the goal is to get the model to misclassify an input `(x, y)` as a *specific* incorrect class `y'`.\n",
        "\n",
        "For this, you will amend the previous PGD attack to take as input a list of targets `ImageNet.targets` (one target class per input).\n"
      ],
      "metadata": {
        "id": "XW_kKeh1VZ5C"
      }
    },
    {
      "cell_type": "code",
      "source": [
        "class PGD_Targeted(attacks.PGD):\n",
        "    \"\"\"\n",
        "    A targeted PGD attack.\n",
        "    \"\"\"\n",
        "    \n",
        "    def __init__(self, steps, epsilon, step_size, clf):\n",
        "        \"\"\"\n",
        "        :param steps: the number of gradient steps to take\n",
        "        :param epsilon: the maximum perturbation allowed\n",
        "        :param step_size: the size of the gradient step\n",
        "        :param clf: the classifier to attack\n",
        "        \"\"\"\n",
        "        super().__init__(steps, epsilon, step_size, clf)\n",
        "\n",
        "    def attack_batch(self, x, y, verbose=False):\n",
        "        \"\"\"\n",
        "        Attack a batch of images with targeted PGD.\n",
        "        :param x: the batch of images (torch tensors) to attack of size (batch_size, 3, 224, 224)\n",
        "        :param y: the target labels of size (batch_size,)\n",
        "        :param verbose: whether to print the progress of the attack\n",
        "        :return: the adversarial images of size (batch_size, 3, 224, 224)\n",
        "        \"\"\"\n",
        "        # make a copy of the images that we will perturb\n",
        "        x_adv = torch.clone(x)\n",
        "\n",
        "        for i in range(self.steps):\n",
        "          # we want gradients to flow all the way to the model inputs\n",
        "          x_adv = x_adv.requires_grad_(True)\n",
        "\n",
        "          # compute the current loss\n",
        "          pred = self.clf.get_logits(x_adv)\n",
        "          loss = torch.nn.CrossEntropyLoss()(pred, y)\n",
        "\n",
        "          if verbose:\n",
        "            confidence = torch.exp(-loss)\n",
        "            print(f\"{i}\\t loss: {loss.item():.2e}, confidence: {confidence.item():.2e}\")\n",
        "\n",
        "          # compute the gradient of the loss with respect to the input pixels\n",
        "          # and take an update step in the direction of the signed gradient\n",
        "          loss.backward()\n",
        "          grad = x_adv.grad.detach()\n",
        "\n",
        "          # we don't need any gradients for the rest of the attack\n",
        "          with torch.no_grad():\n",
        "            # take a step in the direction of the gradient to maximize the loss\n",
        "            x_adv = x_adv - self.step_size * torch.sign(grad)\n",
        "\n",
        "            # project back onto the epsilon ball\n",
        "            x_adv = self.project(x_adv, x)\n",
        "\n",
        "        return x_adv.detach()\n",
        "\n",
        "resnet = defenses.ResNet(device)\n",
        "pgd_t = PGD_Targeted(steps=20, epsilon=EPSILON, step_size=2.5 * EPSILON / 20, clf=resnet)\n",
        "x_adv_t = pgd_t.attack_all(ImageNet.clean_images, ImageNet.targets, verbose=False)\n",
        "\n",
        "utils.save_images(os.path.join(RESULTS_PATH, \"x_adv_targeted.npy\"), x_adv_t)\n",
        "evaluation.eval_targeted_pgd(os.path.join(RESULTS_PATH, \"x_adv_targeted.npy\"), device)"
      ],
      "metadata": {
        "id": "U0lyNx1baNzR",
        "colab": {
          "base_uri": "https://localhost:8080/"
        },
        "outputId": "fb6e887f-7b8d-4d08-a1b0-57ff777e942f"
      },
      "execution_count": null,
      "outputs": [
        {
          "output_type": "stream",
          "name": "stderr",
          "text": [
            "100%|██████████| 10/10 [00:38<00:00,  3.89s/it]\n"
          ]
        },
        {
          "output_type": "stream",
          "name": "stdout",
          "text": [
            "=== Evaluating targeted PGD ===\n",
            "\u001b[32m\tclean accuracy: 100.0%\u001b[0m\n",
            "\u001b[32m\tadv accuracy: 0.5% (goal: ≤ 1.0%)\u001b[0m\n",
            "\u001b[32m\tadv target accuracy: 99.5% (goal: ≥99.0%)\u001b[0m\n",
            "\u001b[32mSUCCESS\u001b[0m\n"
          ]
        }
      ]
    },
    {
      "cell_type": "markdown",
      "source": [
        "# 2.&nbsp;Evading Detection\n",
        "\n",
        "It turns out that \"naive\" adversarial examples are very easy to *detect*.\n",
        "So one could build a defense that aims to detect when an input has been perturbed, to reject it and raise an alarm.\n",
        "\n",
        "Unfortunately, as we'll see such defenses are hard to make robust against an *adaptive* attacker that also optimizes over the detector."
      ],
      "metadata": {
        "id": "m9myeLu4a5xB"
      }
    },
    {
      "cell_type": "code",
      "source": [
        "# Our previous attack is easily detected\n",
        "evaluation.eval_detector_attack(os.path.join(RESULTS_PATH, \"x_adv_targeted.npy\"),\n",
        "                                detector_path=\"infoseclab/data/detector.pth\",\n",
        "                                device=device)"
      ],
      "metadata": {
        "id": "wEsVJ2M3a5Ku",
        "colab": {
          "base_uri": "https://localhost:8080/"
        },
        "outputId": "c9b25a5f-500b-48e9-8ef9-cd78367d9cd3"
      },
      "execution_count": null,
      "outputs": [
        {
          "output_type": "stream",
          "name": "stdout",
          "text": [
            "=== Evaluating targeted PGD with Detection ===\n",
            "\u001b[32m\tclean accuracy: 100.0%\u001b[0m\n",
            "\u001b[32m\tadv accuracy: 0.5% (goal: ≤ 1.0%)\u001b[0m\n",
            "\u001b[32m\tadv target accuracy: 99.5% (goal: ≥99.0%)\u001b[0m\n",
            "\u001b[32m\tclean examples detected: 2.5% (goal: ≤5.0%)\u001b[0m\n",
            "\u001b[31m\tadv examples detected: 97.0% (goal: ≤1.0%)\u001b[0m\n",
            "\u001b[31mNOT THERE YET!\u001b[0m\n"
          ]
        }
      ]
    },
    {
      "cell_type": "markdown",
      "source": [
        "You will now implement a targeted attack against the `ResNetDetector` defense.\n",
        "This defense takes the standard `ResNet` classifier from before, and adds an additional detector module.\n",
        "\n",
        "The defense can be used for classification, in which case it outputs an array of scores for each of the 1000 classes, for each input:\n",
        "\n",
        "```\n",
        "resnet_det = ResNetDetector(device)\n",
        "resnet_det.get_logits(x) -> [N, 1000]\n",
        "```\n",
        "\n",
        "To obtain a detector, we trained a *binary* classifier that takes in an input and outputs binary logits for the task of distinguishing clean images (class 0) from adversarially perturbed ones (class 1):\n",
        "\n",
        "```\n",
        "resnet_det = ResNetDetector(device)\n",
        "resnet_det.get_detection_logits(x) -> [N, 2]\n",
        "```\n",
        "\n",
        "*(the classifier and detector actually share most of their implementation.\n",
        "The original ResNet classifier is of the form `g(f(x))` where `f` is a <u>feature extractor</u> that maps inputs to feature vectors, and `g` is a <u>linear layer</u> that maps a feature vector to a vector of 1000 class scores.\n",
        "The detector takes as input the same feature vector `f(x)`, and applies a different linear layer `g_det` that maps the features to a vector of 2 class scores.\n",
        "See `infoseclab.defenses.defense_detector.ResNetDetector` for details).*\n",
        "\n",
        "Note: You are allowed to use the `ResNetDetector` module in your attack, but you are not allowed to modify it."
      ],
      "metadata": {
        "id": "XdM1aIZiyany"
      }
    },
    {
      "cell_type": "code",
      "source": [
        "resnet_det = infoseclab.defenses.defense_detector.ResNetDetector(device)"
      ],
      "metadata": {
        "id": "PIJq72T7FZ2U"
      },
      "execution_count": null,
      "outputs": []
    },
    {
      "cell_type": "code",
      "source": [
        "class PGD_Det(attacks.PGD):\n",
        "    \"\"\"\n",
        "    A targeted PGD attack that also tries to evade detection.\n",
        "    \"\"\"\n",
        "    \n",
        "    def __init__(self, defense_det, steps, epsilon, step_size, clf):\n",
        "        \"\"\"\n",
        "        :param steps: the number of gradient steps to take\n",
        "        :param epsilon: the maximum perturbation allowed\n",
        "        :param step_size: the size of the gradient step\n",
        "        :param clf: the classifier to attack\n",
        "        \"\"\"\n",
        "        self.defense_det = defense_det\n",
        "        super().__init__(steps, epsilon, step_size, clf)\n",
        "\n",
        "    def attack_batch(self, x, y, verbose=False):\n",
        "        \"\"\"\n",
        "        Attack a batch of images with targeted PGD while also evading detection.\n",
        "        :param x: the batch of images (torch tensors) to attack of size (batch_size, 3, 224, 224)\n",
        "        :param y_targets: the target labels of size (batch_size,)\n",
        "        :param verbose: whether to print the progress of the attack\n",
        "        :return: the adversarial images of size (batch_size, 3, 224, 224)\n",
        "        \"\"\"\n",
        "        # make a copy of the images that we will perturb\n",
        "        x_adv = torch.clone(x)\n",
        "\n",
        "        zero = torch.zeros(20, dtype=torch.int64).cuda()\n",
        "        \n",
        "\n",
        "        for i in range(self.steps):\n",
        "          # we want gradients to flow all the way to the model inputs\n",
        "          x_adv = x_adv.requires_grad_(True)\n",
        "\n",
        "          # compute the current loss\n",
        "          pred = self.clf.get_logits(x_adv)\n",
        "          loss = torch.nn.CrossEntropyLoss()(pred, y)\n",
        "          #pred2 = self.defense_det.get_logits(x_adv) ##torch.Size([20, 1000])\n",
        "          pred3 = self.defense_det.get_detection_logits(x_adv) #torch.Size([20, 2])\n",
        "          #temp = torch.argmax(pred3, dim=-1) #torch.Size([20])\n",
        "          \n",
        "          loss2 = torch.nn.CrossEntropyLoss()(pred3, zero)\n",
        "\n",
        "          loss += loss2\n",
        "\n",
        "          # print(\"pred2: \", end=\"\")\n",
        "          # print(pred2)\n",
        "          # print(pred2.size())\n",
        "\n",
        "          # print(\"pred3: \", end=\"\")\n",
        "          # print(pred3)\n",
        "          # print(pred3.size())\n",
        "\n",
        "          # print(\"temp: \", end=\"\")\n",
        "          # print(temp)\n",
        "          # print(temp.size())\n",
        "\n",
        "          \n",
        "\n",
        "          # print(\"y: \", end=\"\")\n",
        "          # # print(y)\n",
        "          # print(y.size())\n",
        "\n",
        "          # print(\"pred dim: \", end=\"\")\n",
        "          # print(pred.size())\n",
        "          # print(\"pred2 dim: \", end=\"\")\n",
        "          # print(pred2.size())\n",
        "\n",
        "          # loss += loss2\n",
        "\n",
        "          if verbose:\n",
        "            confidence = torch.exp(-loss)\n",
        "            print(f\"{i}\\t loss: {loss.item():.2e}, confidence: {confidence.item():.2e}\")\n",
        "\n",
        "          # compute the gradient of the loss with respect to the input pixels\n",
        "          # and take an update step in the direction of the signed gradient\n",
        "          loss.backward()\n",
        "          grad = x_adv.grad.detach()\n",
        "\n",
        "          # we don't need any gradients for the rest of the attack\n",
        "          with torch.no_grad():\n",
        "            # take a step in the direction of the gradient to maximize the loss\n",
        "            x_adv = x_adv - self.step_size * torch.sign(grad)\n",
        "\n",
        "            # project back onto the epsilon ball\n",
        "            x_adv = self.project(x_adv, x)\n",
        "\n",
        "        return x_adv.detach()\n",
        "\n",
        "resnet = defenses.ResNet(device)\n",
        "defense_det = defenses.ResNetDetector(device, detector_path=\"infoseclab/data/detector.pth\")\n",
        "pgd_det = PGD_Det(defense_det, steps=20, epsilon=EPSILON, step_size=2.5 * EPSILON / 20, clf=resnet)\n",
        "x_adv_det = pgd_det.attack_all(ImageNet.clean_images, ImageNet.targets, verbose=False)\n",
        "\n",
        "utils.save_images(os.path.join(RESULTS_PATH, \"x_adv_detect.npy\"), x_adv_det)\n",
        "evaluation.eval_detector_attack(os.path.join(RESULTS_PATH, \"x_adv_detect.npy\"), device=device)"
      ],
      "metadata": {
        "id": "W7V6HnP5b4LR",
        "colab": {
          "base_uri": "https://localhost:8080/"
        },
        "outputId": "138873db-0866-409c-ed53-adb7884870f2"
      },
      "execution_count": null,
      "outputs": [
        {
          "output_type": "stream",
          "name": "stderr",
          "text": [
            "/usr/local/lib/python3.8/dist-packages/torchvision/models/_utils.py:208: UserWarning: The parameter 'pretrained' is deprecated since 0.13 and may be removed in the future, please use 'weights' instead.\n",
            "  warnings.warn(\n",
            "/usr/local/lib/python3.8/dist-packages/torchvision/models/_utils.py:223: UserWarning: Arguments other than a weight enum or `None` for 'weights' are deprecated since 0.13 and may be removed in the future. The current behavior is equivalent to passing `weights=ResNet50_Weights.IMAGENET1K_V1`. You can also use `weights=ResNet50_Weights.DEFAULT` to get the most up-to-date weights.\n",
            "  warnings.warn(msg)\n",
            "100%|██████████| 10/10 [01:18<00:00,  7.83s/it]\n"
          ]
        },
        {
          "output_type": "stream",
          "name": "stdout",
          "text": [
            "=== Evaluating targeted PGD with Detection ===\n",
            "\u001b[32m\tclean accuracy: 100.0%\u001b[0m\n",
            "\u001b[32m\tadv accuracy: 0.0% (goal: ≤ 1.0%)\u001b[0m\n",
            "\u001b[32m\tadv target accuracy: 100.0% (goal: ≥99.0%)\u001b[0m\n",
            "\u001b[32m\tclean examples detected: 2.5% (goal: ≤5.0%)\u001b[0m\n",
            "\u001b[32m\tadv examples detected: 0.0% (goal: ≤1.0%)\u001b[0m\n",
            "\u001b[32mSUCCESS\u001b[0m\n"
          ]
        }
      ]
    },
    {
      "cell_type": "markdown",
      "source": [
        "#3.&nbsp; Preprocessing Defenses (pick one!)\n",
        "\n",
        "We are now going to look at two simple defenses against adversarial examples that aim to resist noise by *pre-processing* the input before classifying it.\n",
        "\n",
        "**Your goal is to break <u>ONE</u> of these two defenses (you can choose which one you prefer)!**\n",
        "\n",
        "<ul>\n",
        "  <li> 3.1. JPEG Compression </li>\n",
        "  <li> 3.2. Random cropping and noising </li>\n",
        "<ul>"
      ],
      "metadata": {
        "id": "EdorMrPt-Vpf"
      }
    },
    {
      "cell_type": "markdown",
      "source": [
        "##3.1&nbsp; JPEG Compression\n",
        "\n",
        "A natural defense idea is to try and remove the noise from adversarial images. A simple way of trying to do that is to compress images before classifying them, e.g., with JPEG.\n",
        "\n",
        "The `ResNetJPEG` defense implements this."
      ],
      "metadata": {
        "id": "3y_q-ox3c_qb"
      }
    },
    {
      "cell_type": "code",
      "source": [
        "# Neither of our attacks survives JPEG compression\n",
        "evaluation.eval_jpeg_attack(os.path.join(RESULTS_PATH, \"x_adv_targeted.npy\"), device)\n",
        "evaluation.eval_jpeg_attack(os.path.join(RESULTS_PATH, \"x_adv_detect.npy\"), device)"
      ],
      "metadata": {
        "id": "jyDfOTPtdE_n"
      },
      "execution_count": null,
      "outputs": []
    },
    {
      "cell_type": "markdown",
      "source": [
        "Your goal is to create a targeted PGD attack that will defeat JPEG compression.\n",
        "In this part, you **don't** need to ensure that the attack stays undetected.\n",
        "\n",
        "**For this attack (<u>and only for this attack</u>), you are allowed to import additional modules from GitHub if you want. However, you are not allowed to use any external modules that implement adversarial examples attacks (e.g., cleverhans, foolbox, etc.)</br>\n",
        "If you're unsure if a module is ok to use, please ask!**\n",
        "\n",
        "External modules can be added in different ways:\n",
        "*   using PIP: `!pip install XXX`\n",
        "*   by cloning a github repository locally (replace the git URL and RESPOSITORY_NAME accordingly):\n",
        "\n",
        "```\n",
        "!git clone {URL}\n",
        "if {RESPOSITORY_NAME} not in sys.path:\n",
        "  sys.path.append(\"{RESPOSITORY_NAME}\")\n",
        "```\n",
        "\n"
      ],
      "metadata": {
        "id": "lTr4mUvc1UAK"
      }
    },
    {
      "cell_type": "code",
      "source": [
        "class PGD_JPEG(attacks.PGD):\n",
        "    \"\"\"\n",
        "    A targeted PGD attack that tries to resist JPEG compression.\n",
        "    \"\"\"\n",
        "\n",
        "    def __init__(self, steps, epsilon, step_size, clf):\n",
        "        \"\"\"\n",
        "        :param steps: the number of gradient steps to take\n",
        "        :param epsilon: the maximum perturbation allowed\n",
        "        :param step_size: the size of the gradient step\n",
        "        :param clf: the classifier to attack\n",
        "        \"\"\"\n",
        "        super().__init__(steps, epsilon, step_size, clf)\n",
        "\n",
        "        \n",
        "    def attack_batch(self, x, y_targets, verbose=False):\n",
        "        \"\"\"\n",
        "        Attack a batch of images with targeted PGD while also resisting JPEG compression.\n",
        "        :param x: the batch of images (torch tensors) to attack of size (batch_size, 3, 224, 224)\n",
        "        :param y_targets: the target labels of size (batch_size,)\n",
        "        :param verbose: whether to print the progress of the attack\n",
        "        :return: the adversarial images of size (batch_size, 3, 224, 224)\n",
        "        \"\"\"\n",
        "\n",
        "        raise NotImplementedError()\n",
        "\n",
        "defense = defenses.ResNetJPEG(device)\n",
        "pgd_jpeg = PGD_JPEG(TODO)\n",
        "x_adv_jpeg = pgd_jpeg.attack_all(ImageNet.clean_images, ImageNet.targets, verbose=False)\n",
        "\n",
        "utils.save_images(os.path.join(RESULTS_PATH, \"x_adv_jpeg.npy\"), x_adv_jpeg)\n",
        "evaluation.eval_jpeg_attack(os.path.join(RESULTS_PATH, \"x_adv_jpeg.npy\"), device)"
      ],
      "metadata": {
        "id": "GlbbYrsIgnsc"
      },
      "execution_count": null,
      "outputs": []
    },
    {
      "cell_type": "markdown",
      "source": [
        "##3.2&nbsp; Randomized cropping and noising\n",
        "\n",
        "Another natural defense idea is to try and *randomize* the model's behavior to make it harder to create adversarial examples.\n",
        "\n",
        "The ResNetRandom defense implements this, by randomly cropping and noising input images before classifying them."
      ],
      "metadata": {
        "id": "ag6TwSfy_Y8Z"
      }
    },
    {
      "cell_type": "code",
      "source": [
        "# Neither of our attacks survive random preprocessing\n",
        "evaluation.eval_random_attack(os.path.join(RESULTS_PATH, \"x_adv_targeted.npy\"), device)\n",
        "evaluation.eval_random_attack(os.path.join(RESULTS_PATH, \"x_adv_detect.npy\"), device)"
      ],
      "metadata": {
        "id": "dlXyTEGO_8bl"
      },
      "execution_count": null,
      "outputs": []
    },
    {
      "cell_type": "markdown",
      "source": [
        "Your goal is to create a targeted PGD attack that will defeat randomized pre-processing.\n",
        "In this part, you **don't** need to ensure that the attack stays undetected.\n",
        "\n",
        "**Note that since this defense is randomized, the evaluation results might vary slightly from one run to the next. To make sure that your attack passes our final evaluation, try to create an attack that has a few % of slack compared to the evaluation targets (e.g., if we target an adversarial accuracy below 5%, aim to ensure that your attack reaches ~3% or lower)**"
      ],
      "metadata": {
        "id": "kW_63qhMAF4h"
      }
    },
    {
      "cell_type": "code",
      "source": [
        "class PGD_Random(attacks.PGD):\n",
        "    \"\"\"\n",
        "    A PGD attack that also tries to resist random preprocessing.\n",
        "    \"\"\"\n",
        "\n",
        "    def __init__(self, steps, epsilon, step_size, clf):\n",
        "        super().__init__(steps, epsilon, step_size, clf)\n",
        "        \n",
        "    def attack_batch(self, x, y, verbose=False):\n",
        "        \"\"\"\n",
        "        Attack a batch of images with targeted PGD while also evading random preprocessing.\n",
        "        :param x: the batch of images (torch tensors) to attack of size (batch_size, 3, 224, 224)\n",
        "        :param y_targets: the target labels of size (batch_size,)\n",
        "        :param verbose: whether to print the progress of the attack\n",
        "        :return: the adversarial images of size (batch_size, 3, 224, 224)\n",
        "        \"\"\"\n",
        "        # make a copy of the images that we will perturb\n",
        "        x_adv = torch.clone(x)\n",
        "\n",
        "        for i in range(self.steps):\n",
        "          # we want gradients to flow all the way to the model inputs\n",
        "          x_adv = x_adv.requires_grad_(True)\n",
        "\n",
        "        \n",
        "          # compute the current loss\n",
        "          pred = self.clf.get_logits(x_adv)\n",
        "          loss = torch.nn.CrossEntropyLoss()(pred, y)\n",
        "          torch.cuda.empty_cache()\n",
        "\n",
        "          del pred\n",
        "          torch.cuda.empty_cache()\n",
        "          pred = self.clf.get_logits(x_adv)\n",
        "          loss += torch.nn.CrossEntropyLoss()(pred, y)\n",
        "\n",
        "          del pred\n",
        "          torch.cuda.empty_cache()\n",
        "          pred = self.clf.get_logits(x_adv)\n",
        "          loss += torch.nn.CrossEntropyLoss()(pred, y)\n",
        "\n",
        "          del pred\n",
        "          torch.cuda.empty_cache()\n",
        "          pred = self.clf.get_logits(x_adv)\n",
        "          loss += torch.nn.CrossEntropyLoss()(pred, y)\n",
        "\n",
        "          del pred\n",
        "          torch.cuda.empty_cache()\n",
        "          pred = self.clf.get_logits(x_adv)\n",
        "          loss += torch.nn.CrossEntropyLoss()(pred, y)\n",
        "\n",
        "          del pred\n",
        "          torch.cuda.empty_cache()\n",
        "          pred = self.clf.get_logits(x_adv)\n",
        "          loss += torch.nn.CrossEntropyLoss()(pred, y)\n",
        "\n",
        "          del pred\n",
        "          torch.cuda.empty_cache()\n",
        "          pred = self.clf.get_logits(x_adv)\n",
        "          loss += torch.nn.CrossEntropyLoss()(pred, y)\n",
        "\n",
        "          del pred\n",
        "          torch.cuda.empty_cache()\n",
        "          pred = self.clf.get_logits(x_adv)\n",
        "          loss += torch.nn.CrossEntropyLoss()(pred, y)\n",
        "\n",
        "          # del pred\n",
        "          # torch.cuda.empty_cache()\n",
        "          # pred = self.clf.get_logits(x_adv)\n",
        "          # loss += torch.nn.CrossEntropyLoss()(pred, y)\n",
        "\n",
        "          # del pred\n",
        "          # torch.cuda.empty_cache()\n",
        "          # pred = self.clf.get_logits(x_adv)\n",
        "          # loss += torch.nn.CrossEntropyLoss()(pred, y)\n",
        "\n",
        "          # del pred\n",
        "          # torch.cuda.empty_cache()\n",
        "          # pred = self.clf.get_logits(x_adv)\n",
        "          # loss += torch.nn.CrossEntropyLoss()(pred, y)\n",
        "          \n",
        "          # for j in range(4):\n",
        "          #   del pred\n",
        "          #   torch.cuda.empty_cache()\n",
        "          #   pred = self.clf.get_logits(x_adv)\n",
        "          #   loss += torch.nn.CrossEntropyLoss()(pred, y)\n",
        "\n",
        "          if verbose:\n",
        "            confidence = torch.exp(-loss)\n",
        "            print(f\"{i}\\t loss: {loss.item():.2e}, confidence: {confidence.item():.2e}\")\n",
        "\n",
        "          # compute the gradient of the loss with respect to the input pixels\n",
        "          # and take an update step in the direction of the signed gradient\n",
        "          loss.backward()\n",
        "          grad = x_adv.grad.detach()\n",
        "\n",
        "          # we don't need any gradients for the rest of the attack\n",
        "          with torch.no_grad():\n",
        "            # take a step in the direction of the gradient to maximize the loss\n",
        "            x_adv = x_adv - self.step_size * torch.sign(grad)\n",
        "\n",
        "            # project back onto the epsilon ball\n",
        "            x_adv = self.project(x_adv, x)\n",
        "\n",
        "        return x_adv.detach()\n",
        "        raise NotImplementedError()\n",
        "\n",
        "\n",
        "defense = defenses.ResNetRandom(device)\n",
        "pgd_random = PGD_Random(steps=20, epsilon=EPSILON, step_size=1, clf=defense)\n",
        "x_adv_random = pgd_random.attack_all(ImageNet.clean_images, ImageNet.targets, verbose=False)\n",
        "\n",
        "utils.save_images(os.path.join(RESULTS_PATH, \"x_adv_random.npy\"), x_adv_random)\n",
        "evaluation.eval_random_attack(os.path.join(RESULTS_PATH, \"x_adv_random.npy\"), device)"
      ],
      "metadata": {
        "id": "sH64CeqCAzFC",
        "colab": {
          "base_uri": "https://localhost:8080/"
        },
        "outputId": "cc93ec60-46ab-4b37-f33d-0b04a55b45c4"
      },
      "execution_count": 4,
      "outputs": [
        {
          "output_type": "stream",
          "name": "stderr",
          "text": [
            "/usr/local/lib/python3.8/dist-packages/torchvision/models/_utils.py:208: UserWarning: The parameter 'pretrained' is deprecated since 0.13 and may be removed in the future, please use 'weights' instead.\n",
            "  warnings.warn(\n",
            "/usr/local/lib/python3.8/dist-packages/torchvision/models/_utils.py:223: UserWarning: Arguments other than a weight enum or `None` for 'weights' are deprecated since 0.13 and may be removed in the future. The current behavior is equivalent to passing `weights=ResNet50_Weights.IMAGENET1K_V1`. You can also use `weights=ResNet50_Weights.DEFAULT` to get the most up-to-date weights.\n",
            "  warnings.warn(msg)\n",
            "100%|██████████| 10/10 [06:14<00:00, 37.43s/it]\n"
          ]
        },
        {
          "output_type": "stream",
          "name": "stdout",
          "text": [
            "=== Evaluating targeted PGD on random defense ===\n",
            "\u001b[32m\tclean accuracy: 98.0%\u001b[0m\n",
            "\u001b[32m\tadv accuracy: 0.0% (goal: ≤ 5.0%)\u001b[0m\n",
            "\u001b[32m\tadv target accuracy: 100.0% (goal: ≥95.0%)\u001b[0m\n",
            "\u001b[32mSUCCESS\u001b[0m\n"
          ]
        }
      ]
    },
    {
      "cell_type": "markdown",
      "source": [
        "# Create submission file (**upload `results.zip` to moodle**)"
      ],
      "metadata": {
        "id": "9_Cmw-Qj8mLe"
      }
    },
    {
      "cell_type": "code",
      "source": [
        "!zip -j -r \"{RESULTS_PATH}/results.zip\" {RESULTS_PATH} --exclude \"*x_adv_untargeted.npy\""
      ],
      "metadata": {
        "id": "197yEKu1J_-l",
        "colab": {
          "base_uri": "https://localhost:8080/"
        },
        "outputId": "9f82d43a-17fa-4693-fb0c-b8a651072f21"
      },
      "execution_count": 5,
      "outputs": [
        {
          "output_type": "stream",
          "name": "stdout",
          "text": [
            "updating: extraction.json (deflated 25%)\n",
            "updating: x_adv_targeted.npy (deflated 10%)\n",
            "updating: x_adv_detect.npy (deflated 10%)\n",
            "updating: x_adv_random.npy (deflated 10%)\n"
          ]
        }
      ]
    },
    {
      "cell_type": "code",
      "source": [
        "from infoseclab.evaluation import eval_targeted_pgd, eval_detector_attack, eval_jpeg_attack, eval_random_attack\n",
        "with ZipFile(f\"{RESULTS_PATH}/results.zip\", 'r') as zip:\n",
        "    eval_targeted_pgd(path=zip.open(\"x_adv_targeted.npy\"), device=device)\n",
        "    eval_detector_attack(path=zip.open(\"x_adv_detect.npy\"), device=device)\n",
        "    #eval_jpeg_attack(path=zip.open(\"x_adv_jpeg.npy\"), device=device)\n",
        "    eval_random_attack(path=zip.open(\"x_adv_random.npy\"), device=device)"
      ],
      "metadata": {
        "id": "yW3j3t9y9ZVO",
        "colab": {
          "base_uri": "https://localhost:8080/"
        },
        "outputId": "d6c98fd4-db5b-4874-ed06-23dcd39b18c3"
      },
      "execution_count": 6,
      "outputs": [
        {
          "output_type": "stream",
          "name": "stdout",
          "text": [
            "=== Evaluating targeted PGD ===\n",
            "\u001b[32m\tclean accuracy: 100.0%\u001b[0m\n",
            "\u001b[32m\tadv accuracy: 0.5% (goal: ≤ 1.0%)\u001b[0m\n",
            "\u001b[32m\tadv target accuracy: 99.5% (goal: ≥99.0%)\u001b[0m\n",
            "\u001b[32mSUCCESS\u001b[0m\n",
            "=== Evaluating targeted PGD with Detection ===\n",
            "\u001b[32m\tclean accuracy: 100.0%\u001b[0m\n",
            "\u001b[32m\tadv accuracy: 0.0% (goal: ≤ 1.0%)\u001b[0m\n",
            "\u001b[32m\tadv target accuracy: 100.0% (goal: ≥99.0%)\u001b[0m\n",
            "\u001b[32m\tclean examples detected: 2.5% (goal: ≤5.0%)\u001b[0m\n",
            "\u001b[32m\tadv examples detected: 0.0% (goal: ≤1.0%)\u001b[0m\n",
            "\u001b[32mSUCCESS\u001b[0m\n",
            "=== Evaluating targeted PGD on random defense ===\n",
            "\u001b[32m\tclean accuracy: 97.0%\u001b[0m\n",
            "\u001b[32m\tadv accuracy: 0.0% (goal: ≤ 5.0%)\u001b[0m\n",
            "\u001b[32m\tadv target accuracy: 100.0% (goal: ≥95.0%)\u001b[0m\n",
            "\u001b[32mSUCCESS\u001b[0m\n"
          ]
        }
      ]
    }
  ]
}